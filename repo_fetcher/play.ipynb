{
 "cells": [
  {
   "cell_type": "code",
   "execution_count": 3,
   "id": "2da6d26d",
   "metadata": {},
   "outputs": [],
   "source": [
    "import os\n",
    "\n",
    "SCRIPT_DIR = os.getcwd()\n",
    "PROJECT_ROOT = os.path.dirname(SCRIPT_DIR)"
   ]
  },
  {
   "cell_type": "code",
   "execution_count": 4,
   "id": "fc2946c9",
   "metadata": {},
   "outputs": [],
   "source": [
    "import requests\n",
    "import json\n",
    "import time\n",
    "from tqdm import tqdm\n",
    "SLEEP_TIME=2\n",
    "import re\n",
    "\n",
    "with open(os.path.join(PROJECT_ROOT, \"auth\", \"github-auth.json\"), \"r\") as auth_file:\n",
    "    auth_data = json.load(auth_file)\n",
    "    GITHUB_USERNAME = auth_data['username']\n",
    "    GITHUB_TOKEN = auth_data['access_token']"
   ]
  },
  {
   "cell_type": "code",
   "execution_count": 5,
   "id": "05c1f823",
   "metadata": {},
   "outputs": [],
   "source": [
    "def get_repositories(username):\n",
    "    url = f'https://api.github.com/user/repos?visibility=all&per_page=100'\n",
    "    response = requests.get(url, auth=(GITHUB_USERNAME, GITHUB_TOKEN))\n",
    "    response.raise_for_status()\n",
    "    return response.json()\n",
    "\n",
    "def get_commits(repo_name):\n",
    "    url = f'https://api.github.com/repos/{GITHUB_USERNAME}/{repo_name}/commits'\n",
    "    response = requests.get(url, auth=(GITHUB_USERNAME, GITHUB_TOKEN))\n",
    "    response.raise_for_status()\n",
    "    return response.json()\n",
    "\n",
    "def get_commit_details(repo_name, commit_sha):\n",
    "    url = f'https://api.github.com/repos/{GITHUB_USERNAME}/{repo_name}/commits/{commit_sha}'\n",
    "    response = requests.get(url, auth=(GITHUB_USERNAME, GITHUB_TOKEN))\n",
    "    response.raise_for_status()\n",
    "    return response.json()"
   ]
  },
  {
   "cell_type": "code",
   "execution_count": 6,
   "id": "37f2afed",
   "metadata": {},
   "outputs": [],
   "source": [
    "all_repositories_data = {}\n",
    "repositories = get_repositories(GITHUB_USERNAME)"
   ]
  },
  {
   "cell_type": "code",
   "execution_count": 7,
   "id": "6a6b2d27",
   "metadata": {},
   "outputs": [
    {
     "name": "stderr",
     "output_type": "stream",
     "text": [
      "python(10780) MallocStackLogging: can't turn off malloc stack logging because it was not enabled.\n",
      "Repositories: 100%|██████████| 52/52 [00:00<00:00, 232272.43it/s]"
     ]
    },
    {
     "name": "stdout",
     "output_type": "stream",
     "text": [
      "BDCoE-Trainee-2017\n",
      "BDCoE-Trainee-2018\n",
      "NewsHub\n",
      "mmdetection_forVinDR\n",
      "Adversarial-Attack\n",
      "AgentFormer\n",
      "android-architecture-components\n",
      "aryanc55\n",
      "awesome\n",
      "awesome-kotlin\n",
      "Challenge-ACI\n",
      "Chest-XRay-Analysis\n",
      "cse-546-project1\n",
      "cse-546-project2\n",
      "EduFace\n",
      "facebook-api\n",
      "firebase-cloudfunctions\n",
      "functions-samples\n",
      "go\n",
      "grammarly-api\n",
      "hal-matrix\n",
      "i2c\n",
      "irtcp-final\n",
      "IRTCP-Flutter\n",
      "jupyter-themes\n",
      "l1\n",
      "machine-learning-a-z\n",
      "Mentor-Evaluator\n",
      "ml-coursera-python-assignments\n",
      "movie-review-classification\n",
      "MoviesBay\n",
      "MyBenchmarkTransformers\n",
      "onr\n",
      "Privacy-Policies\n",
      "richie\n",
      "rishitoshsingh.github.io\n",
      "RxJava-Android-Samples\n",
      "Saksham-2018\n",
      "Satellite-Image-Colorizer\n",
      "stpp\n",
      "tedx-akgec\n",
      "TensorFlow-Course\n",
      "testapp\n",
      "Tic-Tac-Toe-MinMax-vs-Data-\n",
      "tictactoe\n",
      "ToWatch\n",
      "toWatch-webhook\n",
      "Trajectron-plus-plus\n",
      "TrendzMap\n",
      "twitter-hatespeech\n",
      "Web-Scrappers\n",
      "Micromatic\n"
     ]
    },
    {
     "name": "stderr",
     "output_type": "stream",
     "text": [
      "\n"
     ]
    }
   ],
   "source": [
    "for repo in tqdm(repositories, desc=\"Repositories\"):\n",
    "    print(repo['name'])"
   ]
  },
  {
   "cell_type": "code",
   "execution_count": 8,
   "id": "53a1c55b",
   "metadata": {},
   "outputs": [
    {
     "data": {
      "text/plain": [
       "'15e915c668f88ce2b7875d676ecdb6a7e9ce3e76'"
      ]
     },
     "execution_count": 8,
     "metadata": {},
     "output_type": "execute_result"
    }
   ],
   "source": [
    "get_commits(\"tictactoe\")[0]['sha']"
   ]
  },
  {
   "cell_type": "code",
   "execution_count": 9,
   "id": "c12937f8",
   "metadata": {},
   "outputs": [
    {
     "data": {
      "text/plain": [
       "[{'sha': '56872ce680c67c7ffd17abd8fa41f22294e1eb77',\n",
       "  'filename': 'slurm_jobs/dataset-processing/trajectron_nuscenes.sh',\n",
       "  'status': 'added',\n",
       "  'additions': 19,\n",
       "  'deletions': 0,\n",
       "  'changes': 19,\n",
       "  'blob_url': 'https://github.com/rishitoshsingh/stpp/blob/aeb05e2933aab34e5db5ca69982c15ddbbb748fe/slurm_jobs%2Fdataset-processing%2Ftrajectron_nuscenes.sh',\n",
       "  'raw_url': 'https://github.com/rishitoshsingh/stpp/raw/aeb05e2933aab34e5db5ca69982c15ddbbb748fe/slurm_jobs%2Fdataset-processing%2Ftrajectron_nuscenes.sh',\n",
       "  'contents_url': 'https://api.github.com/repos/rishitoshsingh/stpp/contents/slurm_jobs%2Fdataset-processing%2Ftrajectron_nuscenes.sh?ref=aeb05e2933aab34e5db5ca69982c15ddbbb748fe',\n",
       "  'patch': '@@ -0,0 +1,19 @@\\n+#!/bin/bash\\n+\\n+#SBATCH --job-name=perception/dataset/trajectron_nuscenes\\n+#SBATCH -N 1            ## number of nodes\\n+#SBATCH -c 8            ## number of cores \\n+#SBATCH -t 4:00:00\\t   \\t## time in d-hh\\n+#SBATCH -p htc      ## partition \\n+#SBATCH -q public       ## QOS\\n+#SBATCH -o slurm-%j.out ## file to save job\\'s STDOUT (%j = JobId)\\n+#SBATCH -e slurm-%j.err ## file to save job\\'s STDERR (%j = JobId)\\n+#SBATCH --mail-type=ALL ## Send an e-mail when a job starts, stops, or fails\\n+#SBATCH --export=NONE   ## Purge the job-submitting shell environment\\n+\\n+\\n+module load mamba/latest\\n+source activate /scratch/rksing18/.conda/trajectron++\\n+\\n+cd /scratch/rksing18/stpp/Trajectron-plus-plus/experiments/nuScenes\\n+python process_data.py --data=/scratch/rksing18/datasets/nuScenes/ --version=\"v1.0-trainval\" --output_path=../processed\\n\\\\ No newline at end of file'},\n",
       " {'sha': '174f564b24406467a5be1c9e54b9422edf5a9d0a',\n",
       "  'filename': 'slurm_jobs/training/train_eth_stanford_agentformer.sh',\n",
       "  'status': 'added',\n",
       "  'additions': 22,\n",
       "  'deletions': 0,\n",
       "  'changes': 22,\n",
       "  'blob_url': 'https://github.com/rishitoshsingh/stpp/blob/aeb05e2933aab34e5db5ca69982c15ddbbb748fe/slurm_jobs%2Ftraining%2Ftrain_eth_stanford_agentformer.sh',\n",
       "  'raw_url': 'https://github.com/rishitoshsingh/stpp/raw/aeb05e2933aab34e5db5ca69982c15ddbbb748fe/slurm_jobs%2Ftraining%2Ftrain_eth_stanford_agentformer.sh',\n",
       "  'contents_url': 'https://api.github.com/repos/rishitoshsingh/stpp/contents/slurm_jobs%2Ftraining%2Ftrain_eth_stanford_agentformer.sh?ref=aeb05e2933aab34e5db5ca69982c15ddbbb748fe',\n",
       "  'patch': \"@@ -0,0 +1,22 @@\\n+#!/bin/bash\\n+\\n+#SBATCH --job-name=perception/training/train_eth_stanford_agentformer\\n+#SBATCH -N 1            ## number of nodes\\n+#SBATCH -c 16            ## number of cores \\n+#SBATCH -t 0-10\\t   \\t## time in d-hh\\n+#SBATCH --gpus=a100:1    ## Number of GPU\\n+#SBATCH -p general      ## partition \\n+#SBATCH -q public       ## QOS\\n+#SBATCH -A class_cse591spring2024\\n+#SBATCH --mem=64G       ## memory pool for all cores (see also --mem-per-cpu)\\n+#SBATCH -o slurm-%j.out ## file to save job's STDOUT (%j = JobId)\\n+#SBATCH -e slurm-%j.err ## file to save job's STDERR (%j = JobId)\\n+#SBATCH --mail-type=ALL ## Send an e-mail when a job starts, stops, or fails\\n+#SBATCH --export=NONE   ## Purge the job-submitting shell environment\\n+\\n+\\n+module load mamba/latest\\n+source activate /scratch/rksing18/.conda/agentformer\\n+\\n+cd /scratch/rksing18/stpp/AgentFormer\\n+python train.py --cfg eth_stanford_agentformer --gpu 0\\n\\\\ No newline at end of file\"},\n",
       " {'sha': 'a14b3f7f39de81961135ccdbe32a20d987dda4b5',\n",
       "  'filename': 'slurm_jobs/training/train_nuscenes_agentformer_10samples.sh',\n",
       "  'status': 'added',\n",
       "  'additions': 20,\n",
       "  'deletions': 0,\n",
       "  'changes': 20,\n",
       "  'blob_url': 'https://github.com/rishitoshsingh/stpp/blob/aeb05e2933aab34e5db5ca69982c15ddbbb748fe/slurm_jobs%2Ftraining%2Ftrain_nuscenes_agentformer_10samples.sh',\n",
       "  'raw_url': 'https://github.com/rishitoshsingh/stpp/raw/aeb05e2933aab34e5db5ca69982c15ddbbb748fe/slurm_jobs%2Ftraining%2Ftrain_nuscenes_agentformer_10samples.sh',\n",
       "  'contents_url': 'https://api.github.com/repos/rishitoshsingh/stpp/contents/slurm_jobs%2Ftraining%2Ftrain_nuscenes_agentformer_10samples.sh?ref=aeb05e2933aab34e5db5ca69982c15ddbbb748fe',\n",
       "  'patch': \"@@ -0,0 +1,20 @@\\n+#!/bin/bash\\n+\\n+#SBATCH --job-name=perception/training/train_nuscenes_agentformer_10samples\\n+#SBATCH -N 1            ## number of nodes\\n+#SBATCH -c 16            ## number of cores \\n+#SBATCH -t 4:00:00\\t   \\t## time in d-hh\\n+#SBATCH --gres=gpu:a100:1    ## Number of GPU\\n+#SBATCH -p general      ## partition \\n+#SBATCH -q public       ## QOS\\n+#SBATCH -o slurm-%j.out ## file to save job's STDOUT (%j = JobId)\\n+#SBATCH -e slurm-%j.err ## file to save job's STDERR (%j = JobId)\\n+#SBATCH --mail-type=ALL ## Send an e-mail when a job starts, stops, or fails\\n+#SBATCH --export=NONE   ## Purge the job-submitting shell environment\\n+\\n+\\n+module load mamba/latest\\n+source activate /scratch/rksing18/.conda/agentformer\\n+\\n+cd /scratch/rksing18/stpp/AgentFormer\\n+python train.py --cfg nuscenes_10sample_agentformer_pre --gpu 0\\n\\\\ No newline at end of file\"},\n",
       " {'sha': 'e15508e6cf6a8e10aef3b7454d3671ef45370a3c',\n",
       "  'filename': 'slurm_jobs/training/train_nuscenes_waymo_agentformer_10samples.sh',\n",
       "  'status': 'added',\n",
       "  'additions': 22,\n",
       "  'deletions': 0,\n",
       "  'changes': 22,\n",
       "  'blob_url': 'https://github.com/rishitoshsingh/stpp/blob/aeb05e2933aab34e5db5ca69982c15ddbbb748fe/slurm_jobs%2Ftraining%2Ftrain_nuscenes_waymo_agentformer_10samples.sh',\n",
       "  'raw_url': 'https://github.com/rishitoshsingh/stpp/raw/aeb05e2933aab34e5db5ca69982c15ddbbb748fe/slurm_jobs%2Ftraining%2Ftrain_nuscenes_waymo_agentformer_10samples.sh',\n",
       "  'contents_url': 'https://api.github.com/repos/rishitoshsingh/stpp/contents/slurm_jobs%2Ftraining%2Ftrain_nuscenes_waymo_agentformer_10samples.sh?ref=aeb05e2933aab34e5db5ca69982c15ddbbb748fe',\n",
       "  'patch': \"@@ -0,0 +1,22 @@\\n+#!/bin/bash\\n+\\n+#SBATCH --job-name=perception/training/train_nuscenes_waymo4_agentformer_10samples_pre\\n+#SBATCH -N 1            ## number of nodes\\n+#SBATCH -c 16            ## number of cores \\n+#SBATCH -t 0-13\\t   \\t## time in d-hh\\n+#SBATCH --gpus=a100:1    ## Number of GPU\\n+#SBATCH -p general      ## partition \\n+#SBATCH -q public       ## QOS\\n+#SBATCH -A class_cse57277104fall2024\\n+#SBATCH --mem=64G       ## memory pool for all cores (see also --mem-per-cpu)\\n+#SBATCH -o slurm-%j.out ## file to save job's STDOUT (%j = JobId)\\n+#SBATCH -e slurm-%j.err ## file to save job's STDERR (%j = JobId)\\n+#SBATCH --mail-type=ALL ## Send an e-mail when a job starts, stops, or fails\\n+#SBATCH --export=NONE   ## Purge the job-submitting shell environment\\n+\\n+\\n+module load mamba/latest\\n+source activate /scratch/rksing18/.conda/agentformer\\n+\\n+cd /scratch/rksing18/stpp/AgentFormer\\n+python train.py --cfg nuscenes_waymo_10sample_agentformer_pre --gpu 0\\n\\\\ No newline at end of file\"}]"
      ]
     },
     "execution_count": 9,
     "metadata": {},
     "output_type": "execute_result"
    }
   ],
   "source": [
    "tmp = get_commit_details(\"stpp\", get_commits(\"stpp\")[1]['sha'])\n",
    "tmp['files']"
   ]
  },
  {
   "cell_type": "code",
   "execution_count": 11,
   "id": "a40b4989",
   "metadata": {},
   "outputs": [
    {
     "data": {
      "text/plain": [
       "{'sha': '56872ce680c67c7ffd17abd8fa41f22294e1eb77',\n",
       " 'filename': 'slurm_jobs/dataset-processing/trajectron_nuscenes.sh',\n",
       " 'status': 'added',\n",
       " 'additions': 19,\n",
       " 'deletions': 0,\n",
       " 'changes': 19,\n",
       " 'blob_url': 'https://github.com/rishitoshsingh/stpp/blob/aeb05e2933aab34e5db5ca69982c15ddbbb748fe/slurm_jobs%2Fdataset-processing%2Ftrajectron_nuscenes.sh',\n",
       " 'raw_url': 'https://github.com/rishitoshsingh/stpp/raw/aeb05e2933aab34e5db5ca69982c15ddbbb748fe/slurm_jobs%2Fdataset-processing%2Ftrajectron_nuscenes.sh',\n",
       " 'contents_url': 'https://api.github.com/repos/rishitoshsingh/stpp/contents/slurm_jobs%2Fdataset-processing%2Ftrajectron_nuscenes.sh?ref=aeb05e2933aab34e5db5ca69982c15ddbbb748fe',\n",
       " 'patch': '@@ -0,0 +1,19 @@\\n+#!/bin/bash\\n+\\n+#SBATCH --job-name=perception/dataset/trajectron_nuscenes\\n+#SBATCH -N 1            ## number of nodes\\n+#SBATCH -c 8            ## number of cores \\n+#SBATCH -t 4:00:00\\t   \\t## time in d-hh\\n+#SBATCH -p htc      ## partition \\n+#SBATCH -q public       ## QOS\\n+#SBATCH -o slurm-%j.out ## file to save job\\'s STDOUT (%j = JobId)\\n+#SBATCH -e slurm-%j.err ## file to save job\\'s STDERR (%j = JobId)\\n+#SBATCH --mail-type=ALL ## Send an e-mail when a job starts, stops, or fails\\n+#SBATCH --export=NONE   ## Purge the job-submitting shell environment\\n+\\n+\\n+module load mamba/latest\\n+source activate /scratch/rksing18/.conda/trajectron++\\n+\\n+cd /scratch/rksing18/stpp/Trajectron-plus-plus/experiments/nuScenes\\n+python process_data.py --data=/scratch/rksing18/datasets/nuScenes/ --version=\"v1.0-trainval\" --output_path=../processed\\n\\\\ No newline at end of file'}"
      ]
     },
     "execution_count": 11,
     "metadata": {},
     "output_type": "execute_result"
    }
   ],
   "source": [
    "tmp = get_commit_details(\"stpp\", get_commits(\"stpp\")[1]['sha'])\n",
    "tmp[\"files\"][0]"
   ]
  },
  {
   "cell_type": "code",
   "execution_count": null,
   "id": "39c06a41",
   "metadata": {},
   "outputs": [],
   "source": [
    "'@@ -17,4 +17,4 @@ def root_post():\\n     return response\\n \\n if __name__ == \\'__main__\\':\\n-    app.run(debug=True, host=\"0.0.0.0\", port=80)\\n\\\\ No newline at end of file\\n+    app.run(debug=True, host=\"0.0.0.0\", port=8080)\\n\\\\ No newline at end of file'"
   ]
  },
  {
   "cell_type": "code",
   "execution_count": 16,
   "id": "2fdba420",
   "metadata": {},
   "outputs": [
    {
     "name": "stderr",
     "output_type": "stream",
     "text": [
      "Repositories: 100%|██████████| 52/52 [00:25<00:00,  2.06it/s]\n"
     ]
    }
   ],
   "source": [
    "for repo in tqdm(repositories, desc=\"Repositories\"):\n",
    "    repo_name = repo['name']\n",
    "    # print(f'Repository: {repo_name}')\n",
    "    repo_data = {\n",
    "        'author': repo['owner']['login'],\n",
    "        'is_fork': repo['fork'],\n",
    "        'files': [],\n",
    "        'unique_file_extensions': set(),\n",
    "        'modules': set(),\n",
    "        'commits_by_user': []\n",
    "    }\n",
    "    if repo['owner']['login'] == GITHUB_USERNAME:\n",
    "        commits = get_commits(repo_name)\n",
    "    else:\n",
    "        continue"
   ]
  },
  {
   "cell_type": "code",
   "execution_count": 18,
   "id": "ca8c6604",
   "metadata": {},
   "outputs": [
    {
     "data": {
      "text/plain": [
       "{'sha': '8be5213e2d29479044240a16c733e7d561cb6b51',\n",
       " 'node_id': 'MDY6Q29tbWl0MTI3Mjk4NzM1OjhiZTUyMTNlMmQyOTQ3OTA0NDI0MGExNmM3MzNlN2Q1NjFjYjZiNTE=',\n",
       " 'commit': {'author': {'name': 'rishitoshsingh',\n",
       "   'email': 'rishitoshs@gmail.com',\n",
       "   'date': '2018-03-29T13:58:57Z'},\n",
       "  'committer': {'name': 'rishitoshsingh',\n",
       "   'email': 'rishitoshs@gmail.com',\n",
       "   'date': '2018-03-29T13:58:57Z'},\n",
       "  'message': 'Renamed',\n",
       "  'tree': {'sha': '16b2a8e4d75efcdf87a5f35a1436bc17c251012d',\n",
       "   'url': 'https://api.github.com/repos/rishitoshsingh/Web-Scrappers/git/trees/16b2a8e4d75efcdf87a5f35a1436bc17c251012d'},\n",
       "  'url': 'https://api.github.com/repos/rishitoshsingh/Web-Scrappers/git/commits/8be5213e2d29479044240a16c733e7d561cb6b51',\n",
       "  'comment_count': 0,\n",
       "  'verification': {'verified': False,\n",
       "   'reason': 'unsigned',\n",
       "   'signature': None,\n",
       "   'payload': None,\n",
       "   'verified_at': None}},\n",
       " 'url': 'https://api.github.com/repos/rishitoshsingh/Web-Scrappers/commits/8be5213e2d29479044240a16c733e7d561cb6b51',\n",
       " 'html_url': 'https://github.com/rishitoshsingh/Web-Scrappers/commit/8be5213e2d29479044240a16c733e7d561cb6b51',\n",
       " 'comments_url': 'https://api.github.com/repos/rishitoshsingh/Web-Scrappers/commits/8be5213e2d29479044240a16c733e7d561cb6b51/comments',\n",
       " 'author': {'login': 'rishitoshsingh',\n",
       "  'id': 30952286,\n",
       "  'node_id': 'MDQ6VXNlcjMwOTUyMjg2',\n",
       "  'avatar_url': 'https://avatars.githubusercontent.com/u/30952286?v=4',\n",
       "  'gravatar_id': '',\n",
       "  'url': 'https://api.github.com/users/rishitoshsingh',\n",
       "  'html_url': 'https://github.com/rishitoshsingh',\n",
       "  'followers_url': 'https://api.github.com/users/rishitoshsingh/followers',\n",
       "  'following_url': 'https://api.github.com/users/rishitoshsingh/following{/other_user}',\n",
       "  'gists_url': 'https://api.github.com/users/rishitoshsingh/gists{/gist_id}',\n",
       "  'starred_url': 'https://api.github.com/users/rishitoshsingh/starred{/owner}{/repo}',\n",
       "  'subscriptions_url': 'https://api.github.com/users/rishitoshsingh/subscriptions',\n",
       "  'organizations_url': 'https://api.github.com/users/rishitoshsingh/orgs',\n",
       "  'repos_url': 'https://api.github.com/users/rishitoshsingh/repos',\n",
       "  'events_url': 'https://api.github.com/users/rishitoshsingh/events{/privacy}',\n",
       "  'received_events_url': 'https://api.github.com/users/rishitoshsingh/received_events',\n",
       "  'type': 'User',\n",
       "  'user_view_type': 'public',\n",
       "  'site_admin': False},\n",
       " 'committer': {'login': 'rishitoshsingh',\n",
       "  'id': 30952286,\n",
       "  'node_id': 'MDQ6VXNlcjMwOTUyMjg2',\n",
       "  'avatar_url': 'https://avatars.githubusercontent.com/u/30952286?v=4',\n",
       "  'gravatar_id': '',\n",
       "  'url': 'https://api.github.com/users/rishitoshsingh',\n",
       "  'html_url': 'https://github.com/rishitoshsingh',\n",
       "  'followers_url': 'https://api.github.com/users/rishitoshsingh/followers',\n",
       "  'following_url': 'https://api.github.com/users/rishitoshsingh/following{/other_user}',\n",
       "  'gists_url': 'https://api.github.com/users/rishitoshsingh/gists{/gist_id}',\n",
       "  'starred_url': 'https://api.github.com/users/rishitoshsingh/starred{/owner}{/repo}',\n",
       "  'subscriptions_url': 'https://api.github.com/users/rishitoshsingh/subscriptions',\n",
       "  'organizations_url': 'https://api.github.com/users/rishitoshsingh/orgs',\n",
       "  'repos_url': 'https://api.github.com/users/rishitoshsingh/repos',\n",
       "  'events_url': 'https://api.github.com/users/rishitoshsingh/events{/privacy}',\n",
       "  'received_events_url': 'https://api.github.com/users/rishitoshsingh/received_events',\n",
       "  'type': 'User',\n",
       "  'user_view_type': 'public',\n",
       "  'site_admin': False},\n",
       " 'parents': [{'sha': '5bb00fdb187211c7426c2b084d967488d75c1115',\n",
       "   'url': 'https://api.github.com/repos/rishitoshsingh/Web-Scrappers/commits/5bb00fdb187211c7426c2b084d967488d75c1115',\n",
       "   'html_url': 'https://github.com/rishitoshsingh/Web-Scrappers/commit/5bb00fdb187211c7426c2b084d967488d75c1115'}]}"
      ]
     },
     "execution_count": 18,
     "metadata": {},
     "output_type": "execute_result"
    }
   ],
   "source": [
    "commits[0]"
   ]
  },
  {
   "cell_type": "code",
   "execution_count": null,
   "id": "4f34fea7",
   "metadata": {},
   "outputs": [],
   "source": [
    "# for commit in tqdm(commits, desc=f\"Commits in {repo_name}\", leave=False):\n",
    "for commit in commits:\n",
    "        # time.sleep(SLEEP_TIME)  # Pause for 1 second to avoid rate limit\n",
    "        commit_sha = commit['sha']\n",
    "        commit_details = get_commit_details(repo_name, commit_sha)\n",
    "        repo_data['commits_by_user'].append({\n",
    "            'commithash': commit_sha,\n",
    "            'commit_message': commit_details['commit']['message']\n",
    "        })\n",
    "        if 'files' in commit_details:\n",
    "            for file in commit_details['files']:\n",
    "                repo_data['files'].append(file['filename'])\n",
    "                file_extension = file['filename'].split('.')[-1]\n",
    "                if f\".{file_extension}\" in required_extensions:\n",
    "                    repo_data['unique_file_extensions'].add(file_extension)\n",
    "                    if file_extension in ['py', 'ipynb', 'cpp']:\n",
    "                        file_content = requests.get(file['raw_url'], auth=(GITHUB_USERNAME, GITHUB_TOKEN)).text\n",
    "                        modules = extract_modules(file_content, file_extension)\n",
    "                        modules = [mod for mod in modules if mod in required_modules]\n",
    "                        repo_data['modules'].update(modules)\n",
    "    repo_data['unique_file_extensions'] = list(repo_data['unique_file_extensions'])\n",
    "    repo_data['modules'] = list(repo_data['modules'])\n",
    "    all_repositories_data[repo_name] = repo_data\n"
   ]
  }
 ],
 "metadata": {
  "kernelspec": {
   "display_name": "richie-ollama",
   "language": "python",
   "name": "python3"
  },
  "language_info": {
   "codemirror_mode": {
    "name": "ipython",
    "version": 3
   },
   "file_extension": ".py",
   "mimetype": "text/x-python",
   "name": "python",
   "nbconvert_exporter": "python",
   "pygments_lexer": "ipython3",
   "version": "3.13.0"
  }
 },
 "nbformat": 4,
 "nbformat_minor": 5
}
